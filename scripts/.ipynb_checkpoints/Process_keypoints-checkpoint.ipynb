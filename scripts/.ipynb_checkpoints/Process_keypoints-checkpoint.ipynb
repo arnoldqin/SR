{
 "cells": [
  {
   "cell_type": "code",
   "execution_count": 1,
   "metadata": {
    "collapsed": true
   },
   "outputs": [],
   "source": [
    "from PIL import Image\n",
    "import random, os, sys, glob, tqdm\n",
    "import numpy as np\n",
    "from PIL import ImageOps\n",
    "from PIL import ImageDraw\n",
    "from PIL import ImageChops\n",
    "import math\n",
    "\n",
    "def draw_circ(draw, x, y, r, color=(255,0,0)):\n",
    "    draw.ellipse((x-r,y-r,x+r,y+r), fill=color, outline=None)\n",
    "\n",
    "def angle_between_2_points(p1, p2):\n",
    "    x1, y1 = p1\n",
    "    x2, y2 = p2\n",
    "    tan = (y2 - y1) / (x2 - x1)\n",
    "    return np.degrees(np.arctan(tan))\n",
    "\n",
    "def distance(p1, p2):\n",
    "    x1, y1 = p1\n",
    "    x2, y2 = p2\n",
    "    return np.sqrt((x1-x2)**2 + (y1-y2)**2)\n",
    "\n",
    "\n",
    "def rotate(origin, point, angle):\n",
    "    angle = math.radians(angle)\n",
    "    ox, oy = origin\n",
    "    px, py = point\n",
    "    qx = ox + math.cos(angle) * (px - ox) - math.sin(angle) * (py - oy)\n",
    "    qy = oy + math.sin(angle) * (px - ox) + math.cos(angle) * (py - oy)\n",
    "    return qx, qy\n",
    "\n",
    "def is_greyscale(im):\n",
    "    \"\"\"\n",
    "    Check if image is monochrome (1 channel or 3 identical channels)\n",
    "    \"\"\"\n",
    "    if im.mode not in (\"L\", \"RGB\"):\n",
    "        raise ValueError(\"Unsuported image mode\")\n",
    "\n",
    "    if im.mode == \"RGB\":\n",
    "        rgb = im.split()\n",
    "        if ImageChops.difference(rgb[0],rgb[1]).getextrema()[1] > 30:\n",
    "            return False\n",
    "        if ImageChops.difference(rgb[0],rgb[2]).getextrema()[1] > 30:\n",
    "            return False\n",
    "    return True\n",
    "\n",
    "def get_filename(path, img_name):\n",
    "    img_prefix = img_name.split('.')[0]\n",
    "    return glob.glob(os.path.join(path, img_prefix+'*'))\n",
    "\n",
    "def get_anno(anno_paths):\n",
    "    anno_list = []\n",
    "    for anno_path in anno_paths:\n",
    "        with open(anno_path) as anno_file:\n",
    "            a_anno = [i.strip().split(' ') for i in anno_file]\n",
    "            for i in a_anno:\n",
    "                i[1] = float(i[1])\n",
    "                i[2] = float(i[2])\n",
    "            if a_anno[0][1] > 0:\n",
    "                anno_list.append(a_anno)\n",
    "    return anno_list\n",
    "\n",
    "def align_eye(im, anno):\n",
    "    p1 = np.array((anno['right_eye']['x'] + anno['right_eye']['width'] / 2, anno['right_eye']['y'] + anno['right_eye']['height'] / 2)).astype('f')\n",
    "    p2 = np.array((anno['left_eye']['x'] + anno['right_eye']['width'] / 2, anno['left_eye']['y'] + anno['right_eye']['height'] / 2)).astype('f')\n",
    "    face_width = anno['face']['width']\n",
    "    angle = angle_between_2_points(p1, p2)\n",
    "    print(p1, p2, angle)\n",
    "    x1, y1 = p1\n",
    "    x2, y2 = p2\n",
    "    xc = (x1 + x2) // 2\n",
    "    yc = (y1 + y2) // 2\n",
    "    \n",
    "    dis_width = np.sqrt((x2 - x1)**2 + (y2 - y1)**2) / 2.0\n",
    "    pad_type = 'edge'\n",
    "    pad_size = max(im.size[0], im.size[1]) / 2\n",
    "    np_im = np.array(im)\n",
    "    tmp_im = Image.fromarray(np.rot90(np.array([np.pad(np_im[:,:,0], pad_size, pad_type), \\\n",
    "                                      np.pad(np_im[:,:,1], pad_size, pad_type), \\\n",
    "                                      np.pad(np_im[:,:,2], pad_size, pad_type)]).T, 3))\n",
    "    tmp_im = ImageOps.mirror(tmp_im)\n",
    "    xc = xc + pad_size\n",
    "    yc = yc + pad_size\n",
    "    tmp_im = tmp_im.resize((tmp_im.size[0]*2, tmp_im.size[1]*2), Image.LANCZOS)\n",
    "    tmp_im = tmp_im.rotate(angle, center=(xc*2, yc*2), resample=Image.BICUBIC)\n",
    "    tmp_im = tmp_im.resize((tmp_im.size[0]/2, tmp_im.size[1]/2), Image.LANCZOS)\n",
    "    draw = ImageDraw.Draw(tmp_im)\n",
    "    x1_p = xc - dis_width\n",
    "    x2_p = xc + dis_width\n",
    "    print(x1_p, x2_p, yc)\n",
    "    draw_circ(draw, xc, yc, 2, color=(0,0,255))\n",
    "    draw_circ(draw, np.ceil(x1_p), yc, 2, color=(0,255,255))\n",
    "    draw_circ(draw, np.ceil(x2_p), yc, 2, color=(255,0,255))\n",
    "    w =  face_width\n",
    "    h = w / 89.0 * 218.0\n",
    "    x1 = anno['face']['x'] - w/2\n",
    "    y1 = yc - w / 89.0 * 111.0\n",
    "    x2 = x1 + 2*w\n",
    "    y2 = y1 + h\n",
    "    print(x1, y1, x2, y2, w, h)\n",
    "    draw.rectangle((x1,y1,x2,y2),outline=(255,0,255))\n",
    "    del draw\n",
    "    return tmp_im.crop((x1,y1,x2,y2))\n",
    "\n",
    "def align_eye_pad(im, anno):\n",
    "    p1 = np.array((anno[1][1], anno[1][2])).astype('f')\n",
    "    p2 = np.array((anno[0][1], anno[0][2])).astype('f')\n",
    "    angle = angle_between_2_points(p1, p2)\n",
    "    x1, y1 = p1\n",
    "    x2, y2 = p2\n",
    "    xc = (x1 + x2) // 2\n",
    "    yc = (y1 + y2) // 2\n",
    "    dis_width = np.sqrt((x2 - x1)**2 + (y2 - y1)**2) / 2.0\n",
    "    pad_type = 'edge'\n",
    "    pad_size = int(max(im.size[0], im.size[1]) / 2)\n",
    "    np_im = np.array(im)\n",
    "    tmp_im = Image.fromarray(np.rot90(np.array([np.pad(np_im[:,:,0], pad_size, pad_type), \\\n",
    "                                      np.pad(np_im[:,:,1], pad_size, pad_type), \\\n",
    "                                      np.pad(np_im[:,:,2], pad_size, pad_type)]).T, 3))\n",
    "    tmp_im = ImageOps.mirror(tmp_im)\n",
    "    xc = xc + pad_size\n",
    "    yc = yc + pad_size\n",
    "    \n",
    "    for i in anno:\n",
    "        x = i[1] + pad_size\n",
    "        y = i[2] + pad_size\n",
    "    x1 = float(anno[5][1])+ pad_size\n",
    "    y1 = float(anno[5][2])+ pad_size\n",
    "    x2 = float(anno[6][1])+ pad_size\n",
    "    y2 = float(anno[6][2])+ pad_size\n",
    "    k = (float(anno[0][2]) - float(anno[1][2])) / (float(anno[0][1]) - float(anno[1][1]))\n",
    "    if k == 0:\n",
    "        x3 = float(anno[6][1])+ pad_size\n",
    "        y3 = float(anno[5][2])+ pad_size\n",
    "        x4 = float(anno[5][1])+ pad_size\n",
    "        y4 = float(anno[6][2])+ pad_size\n",
    "    else:\n",
    "        x3 = ((y2-y1) + k*x1 + x2/k) / (k + 1/k)\n",
    "        y3 = k*(x3 - x1) + y1\n",
    "        x4 = ((y1-y2) + k*x2 + x1/k) / (k + 1/k)\n",
    "        y4 = k*(x4 - x2) + y2\n",
    "    face_width = distance((x1,y1),(x3,y3))\n",
    "    face_height = distance((x2,y2),(x3,y3))\n",
    "\n",
    "    tmp_im = tmp_im.rotate(angle, center=(xc, yc), resample=Image.BICUBIC)\n",
    "\n",
    "    x1, y1 = rotate((xc, yc),(x1,y1),-angle)\n",
    "    x2, y2 = rotate((xc, yc),(x2,y2),-angle)\n",
    "    adj = 2\n",
    "    w = face_width\n",
    "    h = face_height #w * adj\n",
    "    x1 -= w * 3/4\n",
    "    x2 += w * 3/4\n",
    "    y1 -= w * 1/3\n",
    "    y2 += w * 1/3\n",
    "    return tmp_im.crop((x1,y1,x2,y2))#.resize((,218))\n"
   ]
  },
  {
   "cell_type": "code",
   "execution_count": null,
   "metadata": {},
   "outputs": [],
   "source": [
    "# Set to correspondent path\n",
    "anno_root = './新建文件夹/images_annotations/'\n",
    "img_name_list = glob.glob('./新建文件夹/动漫人脸标注2.0/tool/images/*')\n",
    "img_list = []\n",
    "print len(img_name_list)"
   ]
  },
  {
   "cell_type": "code",
   "execution_count": null,
   "metadata": {},
   "outputs": [],
   "source": [
    "# Load anno and crop image\n",
    "def func(im_name):\n",
    "    anno_name_list = get_filename(anno_root, os.path.basename(im_name))\n",
    "    im_anno_list = get_anno(anno_name_list)\n",
    "    for idx, im_anno in enumerate(im_anno_list):\n",
    "        pass_im = False\n",
    "        for i in im_anno:\n",
    "            if i[1] < 0 or i[2] < 0:\n",
    "                pass_im = True\n",
    "        if pass_im:\n",
    "            continue\n",
    "        croped_img = align_eye_pad(Image.open(im_name).convert('RGB'), im_anno)\n",
    "        if croped_img.size[0] < 72 or croped_img.size[1] < 72:\n",
    "            croped_img.save(os.path.join('./croped_test_small',os.path.basename(im_name).split('.')[0]+'.%d.png'%idx))\n",
    "        else:\n",
    "            croped_img.save(os.path.join('./croped_test',os.path.basename(im_name).split('.')[0]+'.%d.png'%idx))\n",
    "\n",
    "# Test\n",
    "# func('./新建文件夹/动漫人脸标注2.0/tool/images/000081.jpg')\n",
    "\n",
    "# Run all images\n",
    "for i in tqdm.tqdm_notebook(img_name_list):\n",
    "    try:\n",
    "        func(i)\n",
    "    except:\n",
    "        pass\n",
    "\n",
    "# Use multi-thread if you want...\n",
    "# from multiprocessing.pool import ThreadPool\n",
    "# p = ThreadPool(6)\n",
    "# xs = p.map(func, img_name_list)"
   ]
  },
  {
   "cell_type": "code",
   "execution_count": null,
   "metadata": {},
   "outputs": [],
   "source": []
  },
  {
   "cell_type": "code",
   "execution_count": null,
   "metadata": {},
   "outputs": [],
   "source": []
  },
  {
   "cell_type": "code",
   "execution_count": null,
   "metadata": {
    "collapsed": true
   },
   "outputs": [],
   "source": []
  },
  {
   "cell_type": "code",
   "execution_count": null,
   "metadata": {},
   "outputs": [],
   "source": []
  },
  {
   "cell_type": "code",
   "execution_count": null,
   "metadata": {},
   "outputs": [],
   "source": []
  },
  {
   "cell_type": "code",
   "execution_count": null,
   "metadata": {},
   "outputs": [],
   "source": []
  },
  {
   "cell_type": "code",
   "execution_count": null,
   "metadata": {},
   "outputs": [],
   "source": []
  },
  {
   "cell_type": "code",
   "execution_count": null,
   "metadata": {
    "collapsed": true
   },
   "outputs": [],
   "source": []
  },
  {
   "cell_type": "code",
   "execution_count": null,
   "metadata": {
    "collapsed": true
   },
   "outputs": [],
   "source": []
  },
  {
   "cell_type": "code",
   "execution_count": null,
   "metadata": {},
   "outputs": [],
   "source": [
    "exist_list = [i.split('\\\\')[-1].split('.')[0] for i in glob.glob('./croped/*')] +  [i.split('\\\\')[-1].split('.')[0] for i in glob.glob('./croped_small/*')] \n",
    "all_list =  [i.split('\\\\')[-1].split('.')[0] for i in glob.glob('./images//*')] \n",
    "failed_img = [i for i in all_list if i not in exist_list]\n",
    "\n",
    "count = 0\n",
    "failed = []\n",
    "null_img = []\n",
    "for im_name in tqdm.tqdm_notebook(img_name_list):\n",
    "    anno_name_list = get_filename(anno_root, im_name.split('\\\\')[-1])\n",
    "    im_anno_list = get_anno(anno_name_list)\n",
    "    null_anno = 0\n",
    "    for idx, im_anno in enumerate(im_anno_list):\n",
    "        pass_im = False\n",
    "        for i in im_anno:\n",
    "            if i[1] < 0 or i[2] < 0:\n",
    "                pass_im = True\n",
    "        if pass_im:\n",
    "            null_anno += 1\n",
    "    if null_anno == len(im_anno_list):\n",
    "        count +=1\n",
    "        null_img.append(im_name.split('\\\\')[-1].split('.')[0])\n",
    "#         if not pass_im and im_name.split('\\\\')[-1].split('.')[0] not in exist_list:\n",
    "#             func(im_name)"
   ]
  },
  {
   "cell_type": "code",
   "execution_count": null,
   "metadata": {},
   "outputs": [],
   "source": []
  },
  {
   "cell_type": "code",
   "execution_count": null,
   "metadata": {},
   "outputs": [],
   "source": []
  },
  {
   "cell_type": "code",
   "execution_count": null,
   "metadata": {},
   "outputs": [],
   "source": []
  },
  {
   "cell_type": "code",
   "execution_count": null,
   "metadata": {},
   "outputs": [],
   "source": []
  },
  {
   "cell_type": "code",
   "execution_count": null,
   "metadata": {
    "collapsed": true
   },
   "outputs": [],
   "source": []
  },
  {
   "cell_type": "code",
   "execution_count": null,
   "metadata": {},
   "outputs": [],
   "source": []
  },
  {
   "cell_type": "code",
   "execution_count": null,
   "metadata": {},
   "outputs": [],
   "source": [
    "mean_img = np.zeros((256,256,3))\n",
    "for img_path in tqdm.tqdm_notebook(glob.glob('./croped - 副本/*')):\n",
    "    mean_img += np.array(Image.open(img_path).convert('RGB').resize((256,256))).astype(np.float)\n",
    "mean_img /= len(glob.glob('./croped - 副本/*'))"
   ]
  },
  {
   "cell_type": "code",
   "execution_count": null,
   "metadata": {},
   "outputs": [],
   "source": [
    "Image.fromarray(mean_img.astype(np.uint8))"
   ]
  },
  {
   "cell_type": "code",
   "execution_count": null,
   "metadata": {},
   "outputs": [],
   "source": [
    "mean_img_2 = np.zeros((256,256,3))\n",
    "for img_path in tqdm.tqdm_notebook(glob.glob('./croped_/*')):\n",
    "    mean_img_2 += np.array(Image.open(img_path).convert('RGB').resize((256,256))).astype(np.float)\n",
    "mean_img_2 /= len(glob.glob('./croped/*'))"
   ]
  },
  {
   "cell_type": "code",
   "execution_count": null,
   "metadata": {},
   "outputs": [],
   "source": [
    "Image.fromarray(mean_img_2.astype(np.uint8))"
   ]
  },
  {
   "cell_type": "code",
   "execution_count": null,
   "metadata": {},
   "outputs": [],
   "source": [
    "mean_img_2 = np.zeros((256,256,3))\n",
    "for img_path in tqdm.tqdm_notebook(glob.glob('./getchu_men_v5/trainA/*')):\n",
    "    mean_img_2 += np.array(Image.open(img_path).convert('RGB').resize((256,256))).astype(np.float)\n",
    "mean_img_2 /= len(glob.glob('./getchu_men_v5/trainA/*'))"
   ]
  },
  {
   "cell_type": "code",
   "execution_count": null,
   "metadata": {},
   "outputs": [],
   "source": [
    "Image.fromarray(mean_img_2.astype(np.uint8))"
   ]
  },
  {
   "cell_type": "code",
   "execution_count": null,
   "metadata": {},
   "outputs": [],
   "source": [
    "mean_img_2 = np.zeros((256,256,3))\n",
    "for img_path in tqdm.tqdm_notebook(glob.glob('./getchu_men_v5/trainB/*')):\n",
    "    mean_img_2 += np.array(Image.open(img_path).convert('RGB').resize((256,256))).astype(np.float)\n",
    "mean_img_2 /= len(glob.glob('./getchu_men_v5/trainB/*'))"
   ]
  },
  {
   "cell_type": "code",
   "execution_count": null,
   "metadata": {},
   "outputs": [],
   "source": [
    "Image.fromarray(mean_img_2.astype(np.uint8))"
   ]
  },
  {
   "cell_type": "code",
   "execution_count": null,
   "metadata": {},
   "outputs": [],
   "source": []
  },
  {
   "cell_type": "code",
   "execution_count": null,
   "metadata": {
    "collapsed": true
   },
   "outputs": [],
   "source": []
  },
  {
   "cell_type": "code",
   "execution_count": null,
   "metadata": {
    "collapsed": true
   },
   "outputs": [],
   "source": []
  },
  {
   "cell_type": "code",
   "execution_count": null,
   "metadata": {
    "collapsed": true
   },
   "outputs": [],
   "source": []
  },
  {
   "cell_type": "code",
   "execution_count": null,
   "metadata": {},
   "outputs": [],
   "source": []
  },
  {
   "cell_type": "code",
   "execution_count": null,
   "metadata": {
    "collapsed": true
   },
   "outputs": [],
   "source": []
  },
  {
   "cell_type": "code",
   "execution_count": null,
   "metadata": {
    "collapsed": true
   },
   "outputs": [],
   "source": []
  }
 ],
 "metadata": {
  "kernelspec": {
   "display_name": "Python 2",
   "language": "python",
   "name": "python2"
  },
  "language_info": {
   "codemirror_mode": {
    "name": "ipython",
    "version": 2
   },
   "file_extension": ".py",
   "mimetype": "text/x-python",
   "name": "python",
   "nbconvert_exporter": "python",
   "pygments_lexer": "ipython2",
   "version": "2.7.13"
  }
 },
 "nbformat": 4,
 "nbformat_minor": 2
}
