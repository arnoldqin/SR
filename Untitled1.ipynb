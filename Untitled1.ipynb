{
 "cells": [
  {
   "cell_type": "code",
   "execution_count": 1,
   "metadata": {
    "collapsed": true
   },
   "outputs": [],
   "source": [
    "import numpy as np\n"
   ]
  },
  {
   "cell_type": "code",
   "execution_count": 3,
   "metadata": {},
   "outputs": [
    {
     "name": "stdout",
     "output_type": "stream",
     "text": [
      "[[[0 1]\n",
      "  [2 3]]\n",
      "\n",
      " [[4 5]\n",
      "  [6 7]]]\n"
     ]
    }
   ],
   "source": [
    "A = np.arange(0,8).reshape(2,2,2)\n",
    "print(A)"
   ]
  },
  {
   "cell_type": "code",
   "execution_count": 12,
   "metadata": {},
   "outputs": [
    {
     "name": "stdout",
     "output_type": "stream",
     "text": [
      "(array([[[0, 1],\n",
      "        [0, 1],\n",
      "        [0, 1],\n",
      "        [2, 3],\n",
      "        [2, 3],\n",
      "        [2, 3]],\n",
      "\n",
      "       [[0, 1],\n",
      "        [0, 1],\n",
      "        [0, 1],\n",
      "        [2, 3],\n",
      "        [2, 3],\n",
      "        [2, 3]],\n",
      "\n",
      "       [[4, 5],\n",
      "        [4, 5],\n",
      "        [4, 5],\n",
      "        [6, 7],\n",
      "        [6, 7],\n",
      "        [6, 7]],\n",
      "\n",
      "       [[4, 5],\n",
      "        [4, 5],\n",
      "        [4, 5],\n",
      "        [6, 7],\n",
      "        [6, 7],\n",
      "        [6, 7]]]), (4, 6, 2))\n"
     ]
    }
   ],
   "source": [
    "a = np.pad(A,((1,1),(2,2),(0,0)), mode = 'edge')\n",
    "print(a, np.shape(a))"
   ]
  },
  {
   "cell_type": "code",
   "execution_count": 16,
   "metadata": {},
   "outputs": [
    {
     "name": "stdout",
     "output_type": "stream",
     "text": [
      "('a:', array([[0, 1, 2],\n",
      "       [3, 4, 5],\n",
      "       [6, 7, 8]]))\n",
      "('b:', array([[6, 3, 0],\n",
      "       [7, 4, 1],\n",
      "       [8, 5, 2]]))\n"
     ]
    }
   ],
   "source": [
    "a = np.arange(0,9).reshape(3,3)\n",
    "print('a:', a)\n",
    "b = np.rot90(a, 3)\n",
    "print('b:', b)"
   ]
  },
  {
   "cell_type": "code",
   "execution_count": 22,
   "metadata": {},
   "outputs": [
    {
     "name": "stderr",
     "output_type": "stream",
     "text": [
      "100%|██████████| 100/100 [00:00<00:00, 595781.82it/s]\n",
      "100%|██████████| 10000/10000 [01:41<00:00, 98.76it/s]\n"
     ]
    }
   ],
   "source": [
    "from tqdm import tqdm\n",
    "pbar = tqdm(total=100)\n",
    "for i in range(10):\n",
    "    pbar.update(10)\n",
    "pbar.close()\n",
    "for i in tqdm(range(10000)):\n",
    "     sleep(0.01)"
   ]
  },
  {
   "cell_type": "code",
   "execution_count": 21,
   "metadata": {},
   "outputs": [
    {
     "name": "stderr",
     "output_type": "stream",
     "text": [
      "100%|██████████| 4/4 [00:00<00:00,  9.94it/s]\n"
     ]
    }
   ],
   "source": [
    "from tqdm import tqdm,trange\n",
    "from time import sleep\n",
    "text = \"\"\n",
    "for char in tqdm([\"a\", \"b\", \"c\", \"d\"]):\n",
    "    text = text + char\n",
    "    sleep(0.1)"
   ]
  },
  {
   "cell_type": "code",
   "execution_count": null,
   "metadata": {
    "collapsed": true
   },
   "outputs": [],
   "source": [
    "class GenerateHeatmap():\n",
    "    def __init__(self, output_res, num_parts, config):\n",
    "        self.output_res = output_res\n",
    "        self.num_parts = num_parts\n",
    "        sigma = int(config['train']['current_sigma'])\n",
    "        #sigma = self.output_res/64\n",
    "        self.sigma = sigma\n",
    "        size = 6*sigma + 3\n",
    "        print('heatmap Gaussian size:', size)\n",
    "        x = np.arange(0, size, 1, float)\n",
    "        y = x[:, np.newaxis]\n",
    "        x0, y0 = 3*sigma + 1, 3*sigma + 1\n",
    "        self.g = np.exp(- ((x - x0) ** 2 + (y - y0) ** 2) / (2 * sigma ** 2))\n",
    "\n",
    "    def __call__(self, keypoints):\n",
    "        hms = np.zeros(shape = (self.num_parts, self.output_res, self.output_res), dtype = np.float32)\n",
    "        sigma = self.sigma\n",
    "        for p in keypoints:\n",
    "            for idx, pt in enumerate(p):\n",
    "                if pt[2]>0:\n",
    "                    x, y = int(pt[0]), int(pt[1])\n",
    "                    if x<0 or y<0 or x>=self.output_res or y>=self.output_res:\n",
    "                        #print('not in', x, y)\n",
    "                        continue\n",
    "                    ul = int(x - 3*sigma - 1), int(y - 3*sigma - 1)\n",
    "                    br = int(x + 3*sigma + 2), int(y + 3*sigma + 2)\n",
    "\n",
    "                    c,d = max(0, -ul[0]), min(br[0], self.output_res) - ul[0]\n",
    "                    a,b = max(0, -ul[1]), min(br[1], self.output_res) - ul[1]\n",
    "\n",
    "                    cc,dd = max(0, ul[0]), min(br[0], self.output_res)\n",
    "                    aa,bb = max(0, ul[1]), min(br[1], self.output_res)\n",
    "                    hms[idx, aa:bb,cc:dd] = np.maximum(hms[idx, aa:bb,cc:dd], self.g[a:b,c:d])\n",
    "        return hms"
   ]
  }
 ],
 "metadata": {
  "kernelspec": {
   "display_name": "Python 2",
   "language": "python",
   "name": "python2"
  },
  "language_info": {
   "codemirror_mode": {
    "name": "ipython",
    "version": 2
   },
   "file_extension": ".py",
   "mimetype": "text/x-python",
   "name": "python",
   "nbconvert_exporter": "python",
   "pygments_lexer": "ipython2",
   "version": "2.7.13"
  }
 },
 "nbformat": 4,
 "nbformat_minor": 2
}
