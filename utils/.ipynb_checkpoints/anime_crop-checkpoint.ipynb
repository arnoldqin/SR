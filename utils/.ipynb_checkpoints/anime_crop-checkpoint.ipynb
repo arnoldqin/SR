{
 "cells": [
  {
   "cell_type": "code",
   "execution_count": 2,
   "metadata": {
    "collapsed": true
   },
   "outputs": [],
   "source": [
    "import os\n",
    "from tqdm import tqdm\n",
    "import shutil\n",
    "from PIL import Image"
   ]
  },
  {
   "cell_type": "code",
   "execution_count": 42,
   "metadata": {
    "collapsed": true
   },
   "outputs": [],
   "source": [
    "dataroot = '../17TqLnza001_8_27/result.txt'\n",
    "save_path = ''"
   ]
  },
  {
   "cell_type": "code",
   "execution_count": 13,
   "metadata": {},
   "outputs": [
    {
     "name": "stdout",
     "output_type": "stream",
     "text": [
      "17TqLnza001_8_27/data/000002.jpeg\t{\"data\":[{\"type\":\"facept\",\"color\":\"#ff0000\",\"pointset\":[{\"x\":108,\"y\":463},{\"x\":177,\"y\":476},{\"x\":120,\"y\":498},{\"x\":122,\"y\":517},{\"x\":157,\"y\":520},{\"x\":112,\"y\":294},{\"x\":192,\"y\":547}],\"markres\":{}}]}\r\n",
      "\n"
     ]
    }
   ],
   "source": [
    "f = open('../17TqLnza001_8_27/result.txt')\n",
    "lines = f.readlines()\n",
    "print lines[1]"
   ]
  },
  {
   "cell_type": "code",
   "execution_count": 23,
   "metadata": {},
   "outputs": [
    {
     "data": {
      "text/plain": [
       "'{\"data\":[{\"type\":\"facept\",\"color\":\"#ff0000\",\"pointset\":[{\"x\":108,\"y\":463},{\"x\":177,\"y\":476},{\"x\":120,\"y\":498},{\"x\":122,\"y\":517},{\"x\":157,\"y\":520},{\"x\":112,\"y\":294},{\"x\":192,\"y\":547}],\"markres\":{}}]}\\r\\n'"
      ]
     },
     "execution_count": 23,
     "metadata": {},
     "output_type": "execute_result"
    }
   ],
   "source": [
    "test = lines[1]\n",
    "test=test.split('\\t')\n",
    "test[1]"
   ]
  },
  {
   "cell_type": "code",
   "execution_count": 41,
   "metadata": {},
   "outputs": [
    {
     "name": "stdout",
     "output_type": "stream",
     "text": [
      "[{u'y': 463, u'x': 108}, {u'y': 476, u'x': 177}, {u'y': 498, u'x': 120}, {u'y': 517, u'x': 122}, {u'y': 520, u'x': 157}, {u'y': 294, u'x': 112}, {u'y': 547, u'x': 192}]\n"
     ]
    },
    {
     "data": {
      "text/plain": [
       "[[108, 463],\n",
       " [177, 476],\n",
       " [120, 498],\n",
       " [122, 517],\n",
       " [157, 520],\n",
       " [112, 294],\n",
       " [192, 547]]"
      ]
     },
     "execution_count": 41,
     "metadata": {},
     "output_type": "execute_result"
    }
   ],
   "source": [
    "import json\n",
    "txt = json.loads(test[1])\n",
    "print txt['data'][0]['pointset']\n",
    "[[dic['x'],dic['y']] for dic in txt['data'][0]['pointset']]"
   ]
  },
  {
   "cell_type": "code",
   "execution_count": null,
   "metadata": {
    "collapsed": true
   },
   "outputs": [],
   "source": [
    "txt = open(dataroot)\n",
    "lines = txt.readlines()\n",
    "for line in lines:\n",
    "    line = line.split('\\t')\n",
    "    Image"
   ]
  }
 ],
 "metadata": {
  "kernelspec": {
   "display_name": "Python 2",
   "language": "python",
   "name": "python2"
  },
  "language_info": {
   "codemirror_mode": {
    "name": "ipython",
    "version": 2
   },
   "file_extension": ".py",
   "mimetype": "text/x-python",
   "name": "python",
   "nbconvert_exporter": "python",
   "pygments_lexer": "ipython2",
   "version": "2.7.13"
  }
 },
 "nbformat": 4,
 "nbformat_minor": 2
}
